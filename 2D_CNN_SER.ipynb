{
  "cells": [
    {
      "cell_type": "markdown",
      "metadata": {
        "id": "pl4dmeTxsZ3x"
      },
      "source": [
        "# Speech Emotion Recognition: A Comparative Study of Different Feature Spaces and Learning Models - 2D Feature Space"
      ]
    },
    {
      "cell_type": "markdown",
      "metadata": {
        "id": "YF2OTNt-18tr"
      },
      "source": [
        "## Exploratory Data Analysis\n"
      ]
    },
    {
      "cell_type": "code",
      "execution_count": 1,
      "metadata": {
        "colab": {
          "base_uri": "https://localhost:8080/"
        },
        "id": "92DIN1sXutC3",
        "outputId": "59c785a4-aeec-4bf2-cf65-6a52558de138"
      },
      "outputs": [
        {
          "output_type": "stream",
          "name": "stdout",
          "text": [
            "Looking in indexes: https://pypi.org/simple, https://us-python.pkg.dev/colab-wheels/public/simple/\n",
            "Collecting opendatasets\n",
            "  Downloading opendatasets-0.1.22-py3-none-any.whl (15 kB)\n",
            "Requirement already satisfied: tqdm in /usr/local/lib/python3.10/dist-packages (from opendatasets) (4.65.0)\n",
            "Requirement already satisfied: kaggle in /usr/local/lib/python3.10/dist-packages (from opendatasets) (1.5.13)\n",
            "Requirement already satisfied: click in /usr/local/lib/python3.10/dist-packages (from opendatasets) (8.1.3)\n",
            "Requirement already satisfied: six>=1.10 in /usr/local/lib/python3.10/dist-packages (from kaggle->opendatasets) (1.16.0)\n",
            "Requirement already satisfied: certifi in /usr/local/lib/python3.10/dist-packages (from kaggle->opendatasets) (2022.12.7)\n",
            "Requirement already satisfied: python-dateutil in /usr/local/lib/python3.10/dist-packages (from kaggle->opendatasets) (2.8.2)\n",
            "Requirement already satisfied: requests in /usr/local/lib/python3.10/dist-packages (from kaggle->opendatasets) (2.27.1)\n",
            "Requirement already satisfied: python-slugify in /usr/local/lib/python3.10/dist-packages (from kaggle->opendatasets) (8.0.1)\n",
            "Requirement already satisfied: urllib3 in /usr/local/lib/python3.10/dist-packages (from kaggle->opendatasets) (1.26.15)\n",
            "Requirement already satisfied: text-unidecode>=1.3 in /usr/local/lib/python3.10/dist-packages (from python-slugify->kaggle->opendatasets) (1.3)\n",
            "Requirement already satisfied: charset-normalizer~=2.0.0 in /usr/local/lib/python3.10/dist-packages (from requests->kaggle->opendatasets) (2.0.12)\n",
            "Requirement already satisfied: idna<4,>=2.5 in /usr/local/lib/python3.10/dist-packages (from requests->kaggle->opendatasets) (3.4)\n",
            "Installing collected packages: opendatasets\n",
            "Successfully installed opendatasets-0.1.22\n"
          ]
        }
      ],
      "source": [
        "!pip install opendatasets"
      ]
    },
    {
      "cell_type": "code",
      "execution_count": 2,
      "metadata": {
        "id": "NqlC-JJe7x5Y"
      },
      "outputs": [],
      "source": [
        "# Important Libraries\n",
        "import os\n",
        "import IPython.display as ipd\n",
        "import seaborn as sns\n",
        "import matplotlib.pyplot as plt\n",
        "import librosa\n",
        "import librosa.display as disp\n",
        "import pandas as pd\n",
        "import numpy as np\n",
        "from sklearn.preprocessing import LabelEncoder, StandardScaler\n",
        "from sklearn.model_selection import train_test_split\n",
        "from keras import layers\n",
        "from keras import models\n",
        "from keras.utils import np_utils\n",
        "from tensorflow.python.keras.callbacks import EarlyStopping, ReduceLROnPlateau\n",
        "import opendatasets as od\n",
        "from keras import backend as K\n",
        "import tensorflow as tf\n",
        "from sklearn.metrics import confusion_matrix\n",
        "import itertools "
      ]
    },
    {
      "cell_type": "code",
      "execution_count": 3,
      "metadata": {
        "colab": {
          "base_uri": "https://localhost:8080/"
        },
        "id": "X-DwomQ_Z02X",
        "outputId": "4a0df258-2e56-444c-e319-dff4d97d5e74"
      },
      "outputs": [
        {
          "output_type": "stream",
          "name": "stdout",
          "text": [
            "Please provide your Kaggle credentials to download this dataset. Learn more: http://bit.ly/kaggle-creds\n",
            "Your Kaggle username: laraabdelbaki\n",
            "Your Kaggle Key: ··········\n",
            "Downloading speech-emotion-recognition-en.zip to ./speech-emotion-recognition-en\n"
          ]
        },
        {
          "output_type": "stream",
          "name": "stderr",
          "text": [
            "100%|██████████| 987M/987M [00:47<00:00, 21.9MB/s]\n"
          ]
        },
        {
          "output_type": "stream",
          "name": "stdout",
          "text": [
            "\n"
          ]
        }
      ],
      "source": [
        "# Downloading Crema Dataset from Kaggle\n",
        "od.download(\n",
        "    \"https://www.kaggle.com/datasets/dmitrybabko/speech-emotion-recognition-en\")"
      ]
    },
    {
      "cell_type": "markdown",
      "metadata": {
        "id": "00f7bbfd"
      },
      "source": [
        "\n",
        "\n",
        "\n",
        "\n",
        "## 1. Download the Dataset and Understand the Format (10 Points) "
      ]
    },
    {
      "cell_type": "code",
      "execution_count": 4,
      "metadata": {
        "id": "CIGXK6Rk8I6K"
      },
      "outputs": [],
      "source": [
        "path = \"/content/speech-emotion-recognition-en/Crema/\" "
      ]
    },
    {
      "cell_type": "code",
      "execution_count": 5,
      "metadata": {
        "id": "nncPe7f38MDK"
      },
      "outputs": [],
      "source": [
        "# Dictionary of emotions to convert from the string \n",
        "def to_emotion(emotion):\n",
        "    emotions = {\n",
        "        'SAD' : 'sad',\n",
        "        'ANG' : 'angry',\n",
        "        'DIS' : 'disgust',\n",
        "        'NEU' : 'neural',\n",
        "        'HAP' : 'happy',\n",
        "        'FEA' : 'fear'\n",
        "    }\n",
        "    return emotions[emotion]"
      ]
    },
    {
      "cell_type": "code",
      "execution_count": 6,
      "metadata": {
        "id": "sdH1-hl78N-K"
      },
      "outputs": [],
      "source": [
        "file_names = os.listdir(path)"
      ]
    },
    {
      "cell_type": "code",
      "execution_count": 7,
      "metadata": {
        "id": "poPavL_L8RKl"
      },
      "outputs": [],
      "source": [
        "# Define 2 empty lists to add the paths and the corresponding emotions\n",
        "audio_path = []\n",
        "audio_emotion = []"
      ]
    },
    {
      "cell_type": "code",
      "execution_count": 8,
      "metadata": {
        "id": "WVgoYM4Y8Rgb"
      },
      "outputs": [],
      "source": [
        "for file in file_names:\n",
        "    audio_path.append(os.path.join(path,file))\n",
        "    emotion = file.split('_')[2]\n",
        "    audio_emotion.append(to_emotion(emotion))"
      ]
    },
    {
      "cell_type": "code",
      "execution_count": 9,
      "metadata": {
        "id": "Fh9CxBt28Sfi"
      },
      "outputs": [],
      "source": [
        "# Create a Dataframe of audio_path and corresponding audio_emotion\n",
        "dataset = pd.DataFrame({'path':audio_path,'emotion':audio_emotion})"
      ]
    },
    {
      "cell_type": "code",
      "execution_count": 10,
      "metadata": {
        "id": "iqdwaqP18Tjr"
      },
      "outputs": [],
      "source": [
        "dataset = dataset.sort_values('path')"
      ]
    },
    {
      "cell_type": "code",
      "execution_count": 11,
      "metadata": {
        "colab": {
          "base_uri": "https://localhost:8080/",
          "height": 424
        },
        "id": "7FAKm73mAYOV",
        "outputId": "e53de464-f8a5-4d03-e3df-75d388992ec7",
        "scrolled": true
      },
      "outputs": [
        {
          "output_type": "execute_result",
          "data": {
            "text/plain": [
              "                                                   path  emotion\n",
              "543   /content/speech-emotion-recognition-en/Crema/1...    angry\n",
              "4764  /content/speech-emotion-recognition-en/Crema/1...  disgust\n",
              "7253  /content/speech-emotion-recognition-en/Crema/1...     fear\n",
              "1258  /content/speech-emotion-recognition-en/Crema/1...    happy\n",
              "304   /content/speech-emotion-recognition-en/Crema/1...   neural\n",
              "...                                                 ...      ...\n",
              "202   /content/speech-emotion-recognition-en/Crema/1...  disgust\n",
              "2667  /content/speech-emotion-recognition-en/Crema/1...     fear\n",
              "292   /content/speech-emotion-recognition-en/Crema/1...    happy\n",
              "286   /content/speech-emotion-recognition-en/Crema/1...   neural\n",
              "4250  /content/speech-emotion-recognition-en/Crema/1...      sad\n",
              "\n",
              "[7442 rows x 2 columns]"
            ],
            "text/html": [
              "\n",
              "  <div id=\"df-4e1e4166-ba37-436f-b55a-7edbf3e9c680\">\n",
              "    <div class=\"colab-df-container\">\n",
              "      <div>\n",
              "<style scoped>\n",
              "    .dataframe tbody tr th:only-of-type {\n",
              "        vertical-align: middle;\n",
              "    }\n",
              "\n",
              "    .dataframe tbody tr th {\n",
              "        vertical-align: top;\n",
              "    }\n",
              "\n",
              "    .dataframe thead th {\n",
              "        text-align: right;\n",
              "    }\n",
              "</style>\n",
              "<table border=\"1\" class=\"dataframe\">\n",
              "  <thead>\n",
              "    <tr style=\"text-align: right;\">\n",
              "      <th></th>\n",
              "      <th>path</th>\n",
              "      <th>emotion</th>\n",
              "    </tr>\n",
              "  </thead>\n",
              "  <tbody>\n",
              "    <tr>\n",
              "      <th>543</th>\n",
              "      <td>/content/speech-emotion-recognition-en/Crema/1...</td>\n",
              "      <td>angry</td>\n",
              "    </tr>\n",
              "    <tr>\n",
              "      <th>4764</th>\n",
              "      <td>/content/speech-emotion-recognition-en/Crema/1...</td>\n",
              "      <td>disgust</td>\n",
              "    </tr>\n",
              "    <tr>\n",
              "      <th>7253</th>\n",
              "      <td>/content/speech-emotion-recognition-en/Crema/1...</td>\n",
              "      <td>fear</td>\n",
              "    </tr>\n",
              "    <tr>\n",
              "      <th>1258</th>\n",
              "      <td>/content/speech-emotion-recognition-en/Crema/1...</td>\n",
              "      <td>happy</td>\n",
              "    </tr>\n",
              "    <tr>\n",
              "      <th>304</th>\n",
              "      <td>/content/speech-emotion-recognition-en/Crema/1...</td>\n",
              "      <td>neural</td>\n",
              "    </tr>\n",
              "    <tr>\n",
              "      <th>...</th>\n",
              "      <td>...</td>\n",
              "      <td>...</td>\n",
              "    </tr>\n",
              "    <tr>\n",
              "      <th>202</th>\n",
              "      <td>/content/speech-emotion-recognition-en/Crema/1...</td>\n",
              "      <td>disgust</td>\n",
              "    </tr>\n",
              "    <tr>\n",
              "      <th>2667</th>\n",
              "      <td>/content/speech-emotion-recognition-en/Crema/1...</td>\n",
              "      <td>fear</td>\n",
              "    </tr>\n",
              "    <tr>\n",
              "      <th>292</th>\n",
              "      <td>/content/speech-emotion-recognition-en/Crema/1...</td>\n",
              "      <td>happy</td>\n",
              "    </tr>\n",
              "    <tr>\n",
              "      <th>286</th>\n",
              "      <td>/content/speech-emotion-recognition-en/Crema/1...</td>\n",
              "      <td>neural</td>\n",
              "    </tr>\n",
              "    <tr>\n",
              "      <th>4250</th>\n",
              "      <td>/content/speech-emotion-recognition-en/Crema/1...</td>\n",
              "      <td>sad</td>\n",
              "    </tr>\n",
              "  </tbody>\n",
              "</table>\n",
              "<p>7442 rows × 2 columns</p>\n",
              "</div>\n",
              "      <button class=\"colab-df-convert\" onclick=\"convertToInteractive('df-4e1e4166-ba37-436f-b55a-7edbf3e9c680')\"\n",
              "              title=\"Convert this dataframe to an interactive table.\"\n",
              "              style=\"display:none;\">\n",
              "        \n",
              "  <svg xmlns=\"http://www.w3.org/2000/svg\" height=\"24px\"viewBox=\"0 0 24 24\"\n",
              "       width=\"24px\">\n",
              "    <path d=\"M0 0h24v24H0V0z\" fill=\"none\"/>\n",
              "    <path d=\"M18.56 5.44l.94 2.06.94-2.06 2.06-.94-2.06-.94-.94-2.06-.94 2.06-2.06.94zm-11 1L8.5 8.5l.94-2.06 2.06-.94-2.06-.94L8.5 2.5l-.94 2.06-2.06.94zm10 10l.94 2.06.94-2.06 2.06-.94-2.06-.94-.94-2.06-.94 2.06-2.06.94z\"/><path d=\"M17.41 7.96l-1.37-1.37c-.4-.4-.92-.59-1.43-.59-.52 0-1.04.2-1.43.59L10.3 9.45l-7.72 7.72c-.78.78-.78 2.05 0 2.83L4 21.41c.39.39.9.59 1.41.59.51 0 1.02-.2 1.41-.59l7.78-7.78 2.81-2.81c.8-.78.8-2.07 0-2.86zM5.41 20L4 18.59l7.72-7.72 1.47 1.35L5.41 20z\"/>\n",
              "  </svg>\n",
              "      </button>\n",
              "      \n",
              "  <style>\n",
              "    .colab-df-container {\n",
              "      display:flex;\n",
              "      flex-wrap:wrap;\n",
              "      gap: 12px;\n",
              "    }\n",
              "\n",
              "    .colab-df-convert {\n",
              "      background-color: #E8F0FE;\n",
              "      border: none;\n",
              "      border-radius: 50%;\n",
              "      cursor: pointer;\n",
              "      display: none;\n",
              "      fill: #1967D2;\n",
              "      height: 32px;\n",
              "      padding: 0 0 0 0;\n",
              "      width: 32px;\n",
              "    }\n",
              "\n",
              "    .colab-df-convert:hover {\n",
              "      background-color: #E2EBFA;\n",
              "      box-shadow: 0px 1px 2px rgba(60, 64, 67, 0.3), 0px 1px 3px 1px rgba(60, 64, 67, 0.15);\n",
              "      fill: #174EA6;\n",
              "    }\n",
              "\n",
              "    [theme=dark] .colab-df-convert {\n",
              "      background-color: #3B4455;\n",
              "      fill: #D2E3FC;\n",
              "    }\n",
              "\n",
              "    [theme=dark] .colab-df-convert:hover {\n",
              "      background-color: #434B5C;\n",
              "      box-shadow: 0px 1px 3px 1px rgba(0, 0, 0, 0.15);\n",
              "      filter: drop-shadow(0px 1px 2px rgba(0, 0, 0, 0.3));\n",
              "      fill: #FFFFFF;\n",
              "    }\n",
              "  </style>\n",
              "\n",
              "      <script>\n",
              "        const buttonEl =\n",
              "          document.querySelector('#df-4e1e4166-ba37-436f-b55a-7edbf3e9c680 button.colab-df-convert');\n",
              "        buttonEl.style.display =\n",
              "          google.colab.kernel.accessAllowed ? 'block' : 'none';\n",
              "\n",
              "        async function convertToInteractive(key) {\n",
              "          const element = document.querySelector('#df-4e1e4166-ba37-436f-b55a-7edbf3e9c680');\n",
              "          const dataTable =\n",
              "            await google.colab.kernel.invokeFunction('convertToInteractive',\n",
              "                                                     [key], {});\n",
              "          if (!dataTable) return;\n",
              "\n",
              "          const docLinkHtml = 'Like what you see? Visit the ' +\n",
              "            '<a target=\"_blank\" href=https://colab.research.google.com/notebooks/data_table.ipynb>data table notebook</a>'\n",
              "            + ' to learn more about interactive tables.';\n",
              "          element.innerHTML = '';\n",
              "          dataTable['output_type'] = 'display_data';\n",
              "          await google.colab.output.renderOutput(dataTable, element);\n",
              "          const docLink = document.createElement('div');\n",
              "          docLink.innerHTML = docLinkHtml;\n",
              "          element.appendChild(docLink);\n",
              "        }\n",
              "      </script>\n",
              "    </div>\n",
              "  </div>\n",
              "  "
            ]
          },
          "metadata": {},
          "execution_count": 11
        }
      ],
      "source": [
        "dataset"
      ]
    },
    {
      "cell_type": "code",
      "execution_count": 12,
      "metadata": {
        "colab": {
          "base_uri": "https://localhost:8080/"
        },
        "id": "iCsGFGhGTqh4",
        "outputId": "60c8bc7e-7942-4f66-f930-a550c8fba5e3"
      },
      "outputs": [
        {
          "output_type": "execute_result",
          "data": {
            "text/plain": [
              "array([[1, 0, 0, 0, 0, 0],\n",
              "       [0, 1, 0, 0, 0, 0],\n",
              "       [0, 0, 1, 0, 0, 0],\n",
              "       ...,\n",
              "       [0, 0, 0, 1, 0, 0],\n",
              "       [0, 0, 0, 0, 1, 0],\n",
              "       [0, 0, 0, 0, 0, 1]], dtype=uint8)"
            ]
          },
          "metadata": {},
          "execution_count": 12
        }
      ],
      "source": [
        "# One hot encode the labels to be able to map them by the softmax layer\n",
        "df_encoded_all = pd.get_dummies(dataset, columns=['emotion'])\n",
        "labels = np.array(df_encoded_all.iloc[:, -6:])\n",
        "labels"
      ]
    },
    {
      "cell_type": "code",
      "execution_count": 13,
      "metadata": {
        "id": "6fef2ddb"
      },
      "outputs": [],
      "source": [
        "X = dataset.drop(labels=\"emotion\", axis=1)\n",
        "Y = labels"
      ]
    },
    {
      "cell_type": "code",
      "execution_count": 14,
      "metadata": {
        "colab": {
          "base_uri": "https://localhost:8080/"
        },
        "id": "d1cc7d7b",
        "outputId": "088f43d2-45ab-4991-aebf-b3f9bc5d9891"
      },
      "outputs": [
        {
          "output_type": "execute_result",
          "data": {
            "text/plain": [
              "((5209, 1), (2233, 1), (5209, 6), (2233, 6))"
            ]
          },
          "metadata": {},
          "execution_count": 14
        }
      ],
      "source": [
        "X_train, X_test, y_train, y_test = train_test_split(X, Y, random_state=42, test_size=0.3, shuffle=True, stratify = Y)\n",
        "X_train.shape, X_test.shape, y_train.shape, y_test.shape"
      ]
    },
    {
      "cell_type": "code",
      "execution_count": 15,
      "metadata": {
        "colab": {
          "base_uri": "https://localhost:8080/"
        },
        "id": "f819f6f0",
        "outputId": "7c28570d-f20c-4cb0-de5f-e3f6869fb78c",
        "scrolled": true
      },
      "outputs": [
        {
          "output_type": "execute_result",
          "data": {
            "text/plain": [
              "((4948, 1), (2233, 1), (261, 1), (4948, 6), (2233, 6), (261, 6))"
            ]
          },
          "metadata": {},
          "execution_count": 15
        }
      ],
      "source": [
        "X_train, X_val, y_train, y_val = train_test_split(X_train, y_train, random_state=42, test_size=0.05, shuffle=True)\n",
        "X_train.shape, X_test.shape, X_val.shape, y_train.shape, y_test.shape, y_val.shape"
      ]
    },
    {
      "cell_type": "markdown",
      "metadata": {
        "id": "9fd138ac"
      },
      "source": [
        "## 2. Data Augmentation and Feature Extraction for 2D Feature Space"
      ]
    },
    {
      "cell_type": "code",
      "execution_count": null,
      "metadata": {
        "id": "rP6iTpsBAVpj"
      },
      "outputs": [],
      "source": [
        "y, sr = librosa.load(\"/content/speech-emotion-recognition-en/Crema/1001_DFA_HAP_XX.wav\")"
      ]
    },
    {
      "cell_type": "code",
      "execution_count": null,
      "metadata": {
        "id": "C9P2_bGGB6wB"
      },
      "outputs": [],
      "source": [
        "mfcc_feature = librosa.feature.mfcc(y = y, sr=sr)"
      ]
    },
    {
      "cell_type": "code",
      "execution_count": null,
      "metadata": {
        "id": "_t8_jdbMCFai"
      },
      "outputs": [],
      "source": [
        "mfcc_features = np.transpose(mfcc_feature)"
      ]
    },
    {
      "cell_type": "code",
      "execution_count": null,
      "metadata": {
        "colab": {
          "base_uri": "https://localhost:8080/",
          "height": 360
        },
        "id": "oPZi8kvrCF3-",
        "outputId": "e2968047-e06f-4cc6-f604-cbdc7a67e155"
      },
      "outputs": [
        {
          "data": {
            "image/png": "[encoded data removed]",
            "text/plain": [
              "<Figure size 1000x400 with 2 Axes>"
            ]
          },
          "metadata": {},
          "output_type": "display_data"
        }
      ],
      "source": [
        "# Exploring the MFCC of a random sample\n",
        "plt.figure(figsize=(10, 4))\n",
        "librosa.display.specshow(mfcc_features, x_axis='time', sr=sr, hop_length=512)\n",
        "plt.colorbar(format='%+2.0f dB')\n",
        "plt.title('MFCC')\n",
        "plt.show()"
      ]
    },
    {
      "cell_type": "code",
      "execution_count": null,
      "metadata": {
        "colab": {
          "base_uri": "https://localhost:8080/"
        },
        "id": "JuKb27gtCF_9",
        "outputId": "ac322f16-c1f5-4639-9464-9f462911258e"
      },
      "outputs": [
        {
          "data": {
            "text/plain": [
              "(81, 20)"
            ]
          },
          "execution_count": 17,
          "metadata": {},
          "output_type": "execute_result"
        }
      ],
      "source": [
        "mfcc_features.shape"
      ]
    },
    {
      "cell_type": "code",
      "execution_count": null,
      "metadata": {
        "colab": {
          "base_uri": "https://localhost:8080/"
        },
        "id": "ik16Mq47QNWp",
        "outputId": "74cda390-21d2-4733-aa4f-696d6ea267b3"
      },
      "outputs": [
        {
          "data": {
            "text/plain": [
              "(20, 81)"
            ]
          },
          "execution_count": 18,
          "metadata": {},
          "output_type": "execute_result"
        }
      ],
      "source": [
        "y, sr = librosa.load(\"/content/speech-emotion-recognition-en/Crema/1001_DFA_HAP_XX.wav\")\n",
        "\n",
        "mfcc_feature = librosa.feature.mfcc(y = y, sr=sr)\n",
        "mfcc_feature.shape"
      ]
    },
    {
      "cell_type": "code",
      "execution_count": 16,
      "metadata": {
        "id": "Vc28WHWYb2bB"
      },
      "outputs": [],
      "source": [
        "def noise(data, threshold = 0.075):\n",
        "    rate = np.random.random() * threshold\n",
        "    noise_amp = rate*np.random.uniform()*np.amax(data)\n",
        "    data = data + noise_amp * np.random.normal(size = data.shape[0])\n",
        "    return data"
      ]
    },
    {
      "cell_type": "code",
      "execution_count": 17,
      "metadata": {
        "id": "BXInCKh0b3xi"
      },
      "outputs": [],
      "source": [
        "def pitch(data, sampling_rate, pitch_factor = 0.5):\n",
        "    pitch_factor = np.random.random()*pitch_factor\n",
        "    return librosa.effects.pitch_shift(data, sr = sampling_rate, n_steps = pitch_factor)"
      ]
    },
    {
      "cell_type": "markdown",
      "metadata": {
        "id": "W-2U6EohEgWD"
      },
      "source": [
        "### Processing samples and saving them to a dataset"
      ]
    },
    {
      "cell_type": "code",
      "execution_count": 18,
      "metadata": {
        "colab": {
          "base_uri": "https://localhost:8080/"
        },
        "id": "-Bn_YJ0rCGCJ",
        "outputId": "8f606b4b-4d80-4be5-bd4a-ed9da975013d"
      },
      "outputs": [
        {
          "output_type": "stream",
          "name": "stdout",
          "text": [
            "Feature processing...\n",
            "0 samples has been processed...\n",
            "100 samples has been processed...\n",
            "200 samples has been processed...\n",
            "300 samples has been processed...\n",
            "400 samples has been processed...\n",
            "500 samples has been processed...\n",
            "600 samples has been processed...\n",
            "700 samples has been processed...\n",
            "800 samples has been processed...\n",
            "900 samples has been processed...\n",
            "1000 samples has been processed...\n",
            "1100 samples has been processed...\n",
            "1200 samples has been processed...\n",
            "1300 samples has been processed...\n",
            "1400 samples has been processed...\n",
            "1500 samples has been processed...\n",
            "1600 samples has been processed...\n",
            "1700 samples has been processed...\n",
            "1800 samples has been processed...\n",
            "1900 samples has been processed...\n",
            "2000 samples has been processed...\n",
            "2100 samples has been processed...\n",
            "2200 samples has been processed...\n",
            "2300 samples has been processed...\n",
            "2400 samples has been processed...\n",
            "2500 samples has been processed...\n",
            "2600 samples has been processed...\n",
            "2700 samples has been processed...\n",
            "2800 samples has been processed...\n",
            "2900 samples has been processed...\n",
            "3000 samples has been processed...\n",
            "3100 samples has been processed...\n",
            "3200 samples has been processed...\n",
            "3300 samples has been processed...\n",
            "3400 samples has been processed...\n",
            "3500 samples has been processed...\n",
            "3600 samples has been processed...\n",
            "3700 samples has been processed...\n",
            "3800 samples has been processed...\n",
            "3900 samples has been processed...\n",
            "4000 samples has been processed...\n",
            "4100 samples has been processed...\n",
            "4200 samples has been processed...\n",
            "4300 samples has been processed...\n",
            "4400 samples has been processed...\n",
            "4500 samples has been processed...\n",
            "4600 samples has been processed...\n",
            "4700 samples has been processed...\n",
            "4800 samples has been processed...\n",
            "4900 samples has been processed...\n",
            "Done.\n"
          ]
        }
      ],
      "source": [
        "X_train_new, y_train_new = [], []\n",
        "print(\"Feature processing...\")\n",
        "for path, emotion, ind in zip(X_train['path'] ,y_train, range(X_train['path'].shape[0])):\n",
        "    \n",
        "    data, sample_rate = librosa.load(path, duration=2.5, offset=0.6)\n",
        "    if len(data) < 110361:\n",
        "        data = librosa.util.fix_length(data, size=110361)\n",
        "    else:\n",
        "        data = data[:110361]\n",
        "    mfcc_feature = librosa.feature.mfcc(y = data , sr = sample_rate)\n",
        "    mfcc_feature = np.transpose(mfcc_feature)\n",
        "    result = np.array(mfcc_feature)\n",
        "    X_train_new.append(result)\n",
        "    y_train_new.append(emotion)\n",
        "\n",
        "    noise_data = noise(data)\n",
        "    mfcc_feature1 = librosa.feature.mfcc(y = noise_data , sr = sample_rate)\n",
        "    mfcc_feature1 = np.transpose(mfcc_feature1)\n",
        "    res2 = np.array(mfcc_feature1)\n",
        "    X_train_new.append(res2)\n",
        "    y_train_new.append(emotion)\n",
        "\n",
        "    pitched_data = pitch(data, sample_rate)\n",
        "    mfcc_feature2 = librosa.feature.mfcc(y = pitched_data , sr = sample_rate)\n",
        "    mfcc_feature2 = np.transpose(mfcc_feature2)\n",
        "    res3 = np.array(mfcc_feature2)\n",
        "    X_train_new.append(res3)\n",
        "    y_train_new.append(emotion)\n",
        "\n",
        "    new_data = pitch(data, sample_rate)\n",
        "    data_noise_pitch = noise(new_data)\n",
        "    mfcc_feature3 = librosa.feature.mfcc(y = data_noise_pitch , sr = sample_rate)\n",
        "    mfcc_feature3 = np.transpose(mfcc_feature3)\n",
        "    res4 = np.array(mfcc_feature)\n",
        "    X_train_new.append(res4)\n",
        "    y_train_new.append(emotion)\n",
        "    if ind % 100 == 0:\n",
        "        print(f\"{ind} samples has been processed...\")\n",
        "print(\"Done.\")"
      ]
    },
    {
      "cell_type": "code",
      "execution_count": 23,
      "metadata": {
        "colab": {
          "base_uri": "https://localhost:8080/"
        },
        "id": "PjOUjTaCTqh8",
        "outputId": "61e02c19-5789-4983-aeb5-b4e786540090"
      },
      "outputs": [
        {
          "output_type": "stream",
          "name": "stdout",
          "text": [
            "Feature processing...\n",
            "0 samples has been processed...\n",
            "100 samples has been processed...\n",
            "200 samples has been processed...\n",
            "300 samples has been processed...\n",
            "400 samples has been processed...\n",
            "500 samples has been processed...\n",
            "600 samples has been processed...\n",
            "700 samples has been processed...\n",
            "800 samples has been processed...\n",
            "900 samples has been processed...\n",
            "1000 samples has been processed...\n",
            "1100 samples has been processed...\n",
            "1200 samples has been processed...\n",
            "1300 samples has been processed...\n",
            "1400 samples has been processed...\n",
            "1500 samples has been processed...\n",
            "1600 samples has been processed...\n",
            "1700 samples has been processed...\n",
            "1800 samples has been processed...\n",
            "1900 samples has been processed...\n",
            "2000 samples has been processed...\n",
            "2100 samples has been processed...\n",
            "2200 samples has been processed...\n",
            "Done.\n"
          ]
        }
      ],
      "source": [
        "X_test_new, y_test_new = [], []\n",
        "print(\"Feature processing...\")\n",
        "for path, emotion, ind in zip(X_test['path'], y_test, range(X_test['path'].shape[0])):\n",
        "    \n",
        "    data, sample_rate = librosa.load(path, duration=2.5, offset=0.6)\n",
        "    if len(data) < 110361:\n",
        "        data = librosa.util.fix_length(data, size=110361)\n",
        "    else:\n",
        "        data = data[:110361]\n",
        "    mfcc_feature = librosa.feature.mfcc(y = data , sr = sample_rate)\n",
        "    mfcc_feature = np.transpose(mfcc_feature)\n",
        "    result = np.array(mfcc_feature)\n",
        "    X_test_new.append(result)\n",
        "    y_test_new.append(emotion)\n",
        "\n",
        "    if ind % 100 == 0:\n",
        "        print(f\"{ind} samples has been processed...\")\n",
        "print(\"Done.\")"
      ]
    },
    {
      "cell_type": "code",
      "execution_count": 25,
      "metadata": {
        "colab": {
          "base_uri": "https://localhost:8080/"
        },
        "id": "0MBXJxEgTqh8",
        "outputId": "11f08541-2153-4b24-f27c-26b067f75cce"
      },
      "outputs": [
        {
          "output_type": "stream",
          "name": "stdout",
          "text": [
            "Feature processing...\n",
            "0 samples has been processed...\n",
            "100 samples has been processed...\n",
            "200 samples has been processed...\n",
            "Done.\n"
          ]
        }
      ],
      "source": [
        "X_val_new, y_val_new = [], []\n",
        "print(\"Feature processing...\")\n",
        "for path, emotion, ind in zip(X_val['path'], y_val, range(X_val['path'].shape[0])):\n",
        "    \n",
        "    data, sample_rate = librosa.load(path, duration=2.5, offset=0.6)\n",
        "    if len(data) < 110361:\n",
        "        data = librosa.util.fix_length(data, size=110361)\n",
        "    else:\n",
        "        data = data[:110361]\n",
        "    mfcc_feature = librosa.feature.mfcc(y = data , sr = sample_rate)\n",
        "    mfcc_feature = np.transpose(mfcc_feature)\n",
        "    result = np.array(mfcc_feature)\n",
        "    X_val_new.append(result)\n",
        "    y_val_new.append(emotion)\n",
        "\n",
        "    if ind % 100 == 0:\n",
        "        print(f\"{ind} samples has been processed...\")\n",
        "print(\"Done.\")"
      ]
    },
    {
      "cell_type": "code",
      "execution_count": 27,
      "metadata": {
        "id": "UFiYUFaETqh8"
      },
      "outputs": [],
      "source": [
        "# Saving new dataset in a dataframe for further processing\n",
        "X_train = np.array(X_train_new)\n",
        "y_train = np.array([arr.tolist() for arr in y_train_new])"
      ]
    },
    {
      "cell_type": "code",
      "source": [
        "# Saving new dataset in a dataframe for further processing\n",
        "X_test = np.array(X_test_new)\n",
        "y_test = np.array([arr.tolist() for arr in y_test_new])"
      ],
      "metadata": {
        "id": "S1ayolmMaSVt"
      },
      "execution_count": 33,
      "outputs": []
    },
    {
      "cell_type": "code",
      "source": [
        "# Saving new dataset in a dataframe for further processing\n",
        "X_val = np.array(X_val_new)\n",
        "y_val = np.array([arr.tolist() for arr in y_val_new])"
      ],
      "metadata": {
        "id": "UkMbvatQaTHv"
      },
      "execution_count": 34,
      "outputs": []
    },
    {
      "cell_type": "code",
      "execution_count": 31,
      "metadata": {
        "colab": {
          "base_uri": "https://localhost:8080/"
        },
        "id": "_msgyMmr8LHQ",
        "outputId": "bf07d6dc-03b6-4c81-b1a6-e2db6b489f8a"
      },
      "outputs": [
        {
          "output_type": "execute_result",
          "data": {
            "text/plain": [
              "(216, 20)"
            ]
          },
          "metadata": {},
          "execution_count": 31
        }
      ],
      "source": [
        "mfcc_x, mfcc_y = X_train[0].shape\n",
        "mfcc_x, mfcc_y"
      ]
    },
    {
      "cell_type": "code",
      "execution_count": 35,
      "metadata": {
        "colab": {
          "base_uri": "https://localhost:8080/"
        },
        "id": "Baoi-dP86D0b",
        "outputId": "f18d17e0-0bf9-4cd4-d061-fd6134a2fc28"
      },
      "outputs": [
        {
          "output_type": "execute_result",
          "data": {
            "text/plain": [
              "((19792, 216, 20), (2233, 216, 20), (261, 216, 20))"
            ]
          },
          "metadata": {},
          "execution_count": 35
        }
      ],
      "source": [
        "X_train.shape, X_test.shape, X_val.shape"
      ]
    },
    {
      "cell_type": "code",
      "execution_count": 36,
      "metadata": {
        "id": "C1KOJ1zKJvfl"
      },
      "outputs": [],
      "source": [
        "# Reshape the arrays in order to save them in csv files\n",
        "arr_reshaped = X_val.reshape(X_val.shape[0], -1)"
      ]
    },
    {
      "cell_type": "code",
      "execution_count": 37,
      "metadata": {
        "id": "asQWgPXvQUVe"
      },
      "outputs": [],
      "source": [
        "arr_train = X_train.reshape(X_train.shape[0], -1)"
      ]
    },
    {
      "cell_type": "code",
      "execution_count": 38,
      "metadata": {
        "id": "rW26NGnMQdy8"
      },
      "outputs": [],
      "source": [
        "arr_test = X_test.reshape(X_test.shape[0], -1)"
      ]
    },
    {
      "cell_type": "markdown",
      "metadata": {
        "id": "qS1kUWnt4jR-"
      },
      "source": [
        "___________"
      ]
    },
    {
      "cell_type": "markdown",
      "metadata": {
        "id": "khVZzfQFFUTa"
      },
      "source": [
        "The next cell is not needed anymore as it was first used to save the dataframes after the split in google drive "
      ]
    },
    {
      "cell_type": "markdown",
      "metadata": {
        "id": "qkfD8Dq6FVPb"
      },
      "source": [
        "Note: it is important to save the data after the split to keep training the model on the same X_train and keep the test data unknown"
      ]
    },
    {
      "cell_type": "code",
      "execution_count": null,
      "metadata": {
        "id": "DJKKDL-7Ik4Z"
      },
      "outputs": [],
      "source": [
        "from numpy import savetxt\n",
        "savetxt('train_2D.csv', arr_train, delimiter=',')\n",
        "savetxt('test_2D.csv', arr_test, delimiter=',')\n",
        "savetxt('val_2D.csv', arr_reshaped, delimiter=',')\n",
        "savetxt('label_train_2D.csv', y_train, delimiter=',')\n",
        "savetxt('label_test_2D.csv', y_test, delimiter=',')\n",
        "savetxt('label_val_2D.csv', y_val, delimiter=',')"
      ]
    },
    {
      "cell_type": "markdown",
      "metadata": {
        "id": "6P0CSYqT8xnM"
      },
      "source": [
        "## 3. Building The Model (40 Points)"
      ]
    },
    {
      "cell_type": "code",
      "execution_count": null,
      "metadata": {
        "colab": {
          "base_uri": "https://localhost:8080/"
        },
        "id": "W7q1gYVwKJfN",
        "outputId": "5f0ff8fa-8533-4313-98b5-c7205c5545f9"
      },
      "outputs": [
        {
          "name": "stdout",
          "output_type": "stream",
          "text": [
            "Drive already mounted at /content/drive; to attempt to forcibly remount, call drive.mount(\"/content/drive\", force_remount=True).\n"
          ]
        }
      ],
      "source": [
        "from google.colab import drive\n",
        "drive.mount('/content/drive')"
      ]
    },
    {
      "cell_type": "code",
      "execution_count": null,
      "metadata": {
        "id": "I8BWwlbwRYqx"
      },
      "outputs": [],
      "source": [
        "# The dimensions of the csv files\n",
        "mfcc_x = 216\n",
        "mfcc_y = 20"
      ]
    },
    {
      "cell_type": "code",
      "execution_count": null,
      "metadata": {
        "id": "MG_PCOgUM2Sx"
      },
      "outputs": [],
      "source": [
        "X_val_path = '/content/drive/MyDrive/speech recognition/val_2D.csv'\n",
        "X_test_path = '/content/drive/MyDrive/speech recognition/test_2D.csv'\n",
        "X_train_path = '/content/drive/MyDrive/speech recognition/train_2D.csv'\n",
        "label_val_path = '/content/drive/MyDrive/speech recognition/label_val_2D.csv'\n",
        "label_test_path = '/content/drive/MyDrive/speech recognition/label_test_2D.csv'\n",
        "label_train_path = '/content/drive/MyDrive/speech recognition/label_train_2D.csv'"
      ]
    },
    {
      "cell_type": "code",
      "execution_count": null,
      "metadata": {
        "id": "dMO1EdxmM9Pf"
      },
      "outputs": [],
      "source": [
        "X_val_trial = pd.read_csv(X_val_path , header = None)\n",
        "X_test_trial = pd.read_csv(X_test_path , header = None)\n",
        "X_train_trial = pd.read_csv(X_train_path , header = None)\n",
        "y_val_trial = pd.read_csv(label_val_path , header = None)\n",
        "y_train_trial = pd.read_csv(label_train_path , header = None)\n",
        "y_test_trial = pd.read_csv(label_test_path , header = None)"
      ]
    },
    {
      "cell_type": "code",
      "execution_count": null,
      "metadata": {
        "id": "6xvchVoNP0VQ"
      },
      "outputs": [],
      "source": [
        "X_val_trial = np.array(X_val_trial)\n",
        "X_train_trial = np.array(X_train_trial)\n",
        "X_test_trial = np.array(X_test_trial)\n",
        "y_val = np.array(y_val_trial)\n",
        "y_test = np.array(y_test_trial)\n",
        "y_train = np.array(y_train_trial)"
      ]
    },
    {
      "cell_type": "code",
      "execution_count": null,
      "metadata": {
        "id": "teAkXGASNMEe"
      },
      "outputs": [],
      "source": [
        "X_val = X_val_trial.reshape(\n",
        "    X_val_trial.shape[0], X_val_trial.shape[1] // mfcc_y, mfcc_y)"
      ]
    },
    {
      "cell_type": "code",
      "execution_count": null,
      "metadata": {
        "id": "65ZMfyDfZfaA"
      },
      "outputs": [],
      "source": [
        "X_train = X_train_trial.reshape(\n",
        "    X_train_trial.shape[0], X_train_trial.shape[1] // mfcc_y, mfcc_y)"
      ]
    },
    {
      "cell_type": "code",
      "execution_count": null,
      "metadata": {
        "id": "qP8VITnRZj-R"
      },
      "outputs": [],
      "source": [
        "X_test = X_test_trial.reshape(\n",
        "    X_test_trial.shape[0], X_test_trial.shape[1] // mfcc_y, mfcc_y)"
      ]
    },
    {
      "cell_type": "code",
      "execution_count": null,
      "metadata": {
        "colab": {
          "base_uri": "https://localhost:8080/"
        },
        "id": "B22vGf1yP6Z_",
        "outputId": "ba0e510d-5941-45cb-98bb-a5c0cdaba105"
      },
      "outputs": [
        {
          "data": {
            "text/plain": [
              "((1042, 216, 20), (8931, 216, 20), (19795, 216, 20))"
            ]
          },
          "execution_count": 37,
          "metadata": {},
          "output_type": "execute_result"
        }
      ],
      "source": [
        "X_val.shape,X_test.shape, X_train.shape"
      ]
    },
    {
      "cell_type": "code",
      "execution_count": 41,
      "metadata": {
        "colab": {
          "base_uri": "https://localhost:8080/"
        },
        "id": "nFMBCC65BkYz",
        "outputId": "9ef6e0cc-a466-41b1-bc8c-cd9c1cd47c08"
      },
      "outputs": [
        {
          "output_type": "execute_result",
          "data": {
            "text/plain": [
              "(19792, 216, 20, 1)"
            ]
          },
          "metadata": {},
          "execution_count": 41
        }
      ],
      "source": [
        "X_train = np.expand_dims(X_train, axis=3)\n",
        "X_train.shape"
      ]
    },
    {
      "cell_type": "code",
      "execution_count": 42,
      "metadata": {
        "colab": {
          "base_uri": "https://localhost:8080/"
        },
        "id": "Y-dkhjK8Bslt",
        "outputId": "9ca373c4-0f6b-4622-d6a9-3a368877c881"
      },
      "outputs": [
        {
          "output_type": "execute_result",
          "data": {
            "text/plain": [
              "(261, 216, 20, 1)"
            ]
          },
          "metadata": {},
          "execution_count": 42
        }
      ],
      "source": [
        "X_val = np.expand_dims(X_val, axis=3)\n",
        "X_val.shape"
      ]
    },
    {
      "cell_type": "code",
      "execution_count": 43,
      "metadata": {
        "colab": {
          "base_uri": "https://localhost:8080/"
        },
        "id": "iTDSqShfBveK",
        "outputId": "c4fba433-3f94-4aca-9245-b2f1ab3b0661"
      },
      "outputs": [
        {
          "output_type": "execute_result",
          "data": {
            "text/plain": [
              "(2233, 216, 20, 1)"
            ]
          },
          "metadata": {},
          "execution_count": 43
        }
      ],
      "source": [
        "X_test = np.expand_dims(X_test, axis=3)\n",
        "X_test.shape"
      ]
    },
    {
      "cell_type": "markdown",
      "metadata": {
        "id": "7x_t0A-jo9c3"
      },
      "source": [
        " ### **Accuracy Measures**"
      ]
    },
    {
      "cell_type": "code",
      "execution_count": 44,
      "metadata": {
        "id": "qGFc9zc-pHQ6"
      },
      "outputs": [],
      "source": [
        "def recall_m(y_true, y_pred):\n",
        "    true_positives = K.sum(K.round(K.clip(y_true * y_pred, 0, 1)))\n",
        "    possible_positives = K.sum(K.round(K.clip(y_true, 0, 1)))\n",
        "    recall = true_positives / (possible_positives + K.epsilon())\n",
        "    return recall\n",
        "\n",
        "def precision_m(y_true, y_pred):\n",
        "    true_positives = K.sum(K.round(K.clip(y_true * y_pred, 0, 1)))\n",
        "    predicted_positives = K.sum(K.round(K.clip(y_pred, 0, 1)))\n",
        "    precision = true_positives / (predicted_positives + K.epsilon())\n",
        "    return precision\n",
        "\n",
        "def f1_m(y_true, y_pred):\n",
        "    precision = precision_m(y_true, y_pred)\n",
        "    recall = recall_m(y_true, y_pred)\n",
        "    return 2*((precision*recall)/(precision+recall+K.epsilon()))"
      ]
    },
    {
      "cell_type": "code",
      "execution_count": 45,
      "metadata": {
        "id": "xuqX8U-5yC0w"
      },
      "outputs": [],
      "source": [
        "def plot_acc(history):\n",
        "  fig , ax = plt.subplots(1,2)\n",
        "  train_acc = history.history['acc']\n",
        "  train_loss = history.history['loss']\n",
        "  test_acc = history.history['val_acc']\n",
        "  test_loss = history.history['val_loss']\n",
        "\n",
        "  fig.set_size_inches(20,6)\n",
        "  ax[0].plot(train_loss, label = 'Training Loss')\n",
        "  ax[0].plot(test_loss , label = 'Testing Loss')\n",
        "  ax[0].set_title('Training & Testing Loss')\n",
        "  ax[0].legend()\n",
        "  ax[0].set_xlabel(\"Epochs\")\n",
        "\n",
        "  ax[1].plot(train_acc, label = 'Training Accuracy')\n",
        "  ax[1].plot(test_acc , label = 'Testing Accuracy')\n",
        "  ax[1].set_title('Training & Testing Accuracy')\n",
        "  ax[1].legend()\n",
        "  ax[1].set_xlabel(\"Epochs\")\n",
        "  plt.show()"
      ]
    },
    {
      "cell_type": "code",
      "execution_count": 46,
      "metadata": {
        "id": "foGqZVI-tuIY"
      },
      "outputs": [],
      "source": [
        "def plot_confusion_matrix(cm, classes,\n",
        "                        normalize=False,\n",
        "                        title='Confusion matrix',\n",
        "                        cmap=plt.cm.Blues):\n",
        "    \"\"\"\n",
        "    This function prints and plots the confusion matrix.\n",
        "    Normalization can be applied by setting `normalize=True`.\n",
        "    \"\"\"\n",
        "    plt.imshow(cm, interpolation='nearest', cmap=cmap)\n",
        "    plt.title(title)\n",
        "    plt.colorbar()\n",
        "    tick_marks = np.arange(len(classes))\n",
        "    plt.xticks(tick_marks, classes, rotation=45)\n",
        "    plt.yticks(tick_marks, classes)\n",
        "\n",
        "    if normalize:\n",
        "        cm = cm.astype('float') / cm.sum(axis=1)[:, np.newaxis]\n",
        "        print(\"Normalized confusion matrix\")\n",
        "    else:\n",
        "        print('Confusion matrix, without normalization')\n",
        "\n",
        "    print(cm)\n",
        "\n",
        "    thresh = cm.max() / 2.\n",
        "    for i, j in itertools.product(range(cm.shape[0]), range(cm.shape[1])):\n",
        "        plt.text(j, i, cm[i, j],\n",
        "            horizontalalignment=\"center\",\n",
        "            color=\"white\" if cm[i, j] > thresh else \"black\")\n",
        "\n",
        "    plt.tight_layout()\n",
        "    plt.ylabel('True label')\n",
        "    plt.xlabel('Predicted label')"
      ]
    },
    {
      "cell_type": "markdown",
      "metadata": {
        "id": "vv96J8T1xc-A"
      },
      "source": [
        "### **Callbacks**"
      ]
    },
    {
      "cell_type": "code",
      "execution_count": 47,
      "metadata": {
        "id": "C1qN3UAwt9pD"
      },
      "outputs": [],
      "source": [
        "learning_rate_reduction = ReduceLROnPlateau(monitor='val_acc',\n",
        "                                            patience=3,\n",
        "                                            verbose=1,\n",
        "                                            factor=0.5,\n",
        "                                            min_lr=0.00001)"
      ]
    },
    {
      "cell_type": "code",
      "execution_count": 48,
      "metadata": {
        "id": "sAf1j7zft6Ty"
      },
      "outputs": [],
      "source": [
        "earlystopping = EarlyStopping(monitor =\"val_acc\",\n",
        "                              mode = 'auto', patience = 5,\n",
        "                              restore_best_weights = True)"
      ]
    },
    {
      "cell_type": "code",
      "execution_count": 49,
      "metadata": {
        "id": "vKEOIFQTxsIE"
      },
      "outputs": [],
      "source": [
        "checkpoint_path  = \"/content/drive/MyDrive/speech recognition/weights/cp-{epoch:04d}.ckpt\"\n",
        "checkpoint_dir = os.path.dirname(checkpoint_path)\n",
        "\n",
        "cp_callback = tf.keras.callbacks.ModelCheckpoint(\n",
        "    filepath=checkpoint_path, \n",
        "    verbose=1, \n",
        "    save_weights_only=True,\n",
        "    save_best_only=True,\n",
        "    monitor = 'val_acc',\n",
        "    mode = 'max')"
      ]
    },
    {
      "cell_type": "code",
      "execution_count": 50,
      "metadata": {
        "id": "muT0hL1mthoy"
      },
      "outputs": [],
      "source": [
        "EPOCHS = 50\n",
        "batch_size = 32"
      ]
    },
    {
      "cell_type": "markdown",
      "metadata": {
        "id": "u1wBhCF3635S"
      },
      "source": [
        "### **2D CNN Model**"
      ]
    },
    {
      "cell_type": "code",
      "execution_count": 51,
      "metadata": {
        "id": "Bqh4ajyvkwc6"
      },
      "outputs": [],
      "source": [
        "model=models.Sequential()\n",
        "model.add(layers.Conv2D(256, kernel_size=6, strides=1, padding='same', activation='relu', input_shape=(mfcc_x, mfcc_y , 1)))\n",
        "model.add(layers.BatchNormalization())\n",
        "model.add(layers.AveragePooling2D(pool_size=4, strides = 2, padding = 'same'))\n",
        "\n",
        "model.add(layers.Conv2D(128, kernel_size=6, strides=1, padding='same', activation='relu'))\n",
        "\n",
        "model.add(layers.BatchNormalization())\n",
        "\n",
        "model.add(layers.AveragePooling2D(pool_size=4, strides = 2, padding = 'same'))\n",
        "\n",
        "model.add(layers.Conv2D(128, kernel_size=6, strides=1, padding='same', activation='relu'))\n",
        "model.add(layers.AveragePooling2D(pool_size=4, strides = 2, padding = 'same'))\n",
        "model.add(layers.Dropout(0.2))\n",
        "\n",
        "model.add(layers.Conv2D(64, kernel_size=6, strides=1, padding='same', activation='relu'))\n",
        "model.add(layers.MaxPooling2D(pool_size=4, strides = 2, padding = 'same'))\n",
        "\n",
        "model.add(layers.Flatten())\n",
        "model.add(layers.Dense(units=256, activation='relu'))\n",
        "model.add(layers.Dropout(0.3))\n",
        "\n",
        "model.add(layers.Dense(units=6, activation='softmax'))\n",
        "\n",
        "# Add L2 regularization to the convolutional layers\n",
        "l2_lambda = 0.01  # Regularization parameter\n",
        "for layer in model.layers:\n",
        "    if isinstance(layer, tf.keras.layers.Conv2D) or isinstance(layer, tf.keras.layers.Dense):\n",
        "        layer.kernel_regularizer = tf.keras.regularizers.l2(l2_lambda)\n",
        "\n",
        "\n",
        "model.compile(optimizer = 'adam' ,  loss='categorical_crossentropy' , metrics=[\"acc\", f1_m])\n"
      ]
    },
    {
      "cell_type": "code",
      "execution_count": 52,
      "metadata": {
        "colab": {
          "base_uri": "https://localhost:8080/"
        },
        "id": "Jbj_85BTlFYv",
        "outputId": "f59a44c6-2f6f-475c-e6cb-b6e3d7b6a86e"
      },
      "outputs": [
        {
          "output_type": "stream",
          "name": "stdout",
          "text": [
            "Model: \"sequential\"\n",
            "_________________________________________________________________\n",
            " Layer (type)                Output Shape              Param #   \n",
            "=================================================================\n",
            " conv2d (Conv2D)             (None, 216, 20, 256)      9472      \n",
            "                                                                 \n",
            " batch_normalization (BatchN  (None, 216, 20, 256)     1024      \n",
            " ormalization)                                                   \n",
            "                                                                 \n",
            " average_pooling2d (AverageP  (None, 108, 10, 256)     0         \n",
            " ooling2D)                                                       \n",
            "                                                                 \n",
            " conv2d_1 (Conv2D)           (None, 108, 10, 128)      1179776   \n",
            "                                                                 \n",
            " batch_normalization_1 (Batc  (None, 108, 10, 128)     512       \n",
            " hNormalization)                                                 \n",
            "                                                                 \n",
            " average_pooling2d_1 (Averag  (None, 54, 5, 128)       0         \n",
            " ePooling2D)                                                     \n",
            "                                                                 \n",
            " conv2d_2 (Conv2D)           (None, 54, 5, 128)        589952    \n",
            "                                                                 \n",
            " average_pooling2d_2 (Averag  (None, 27, 3, 128)       0         \n",
            " ePooling2D)                                                     \n",
            "                                                                 \n",
            " dropout (Dropout)           (None, 27, 3, 128)        0         \n",
            "                                                                 \n",
            " conv2d_3 (Conv2D)           (None, 27, 3, 64)         294976    \n",
            "                                                                 \n",
            " max_pooling2d (MaxPooling2D  (None, 14, 2, 64)        0         \n",
            " )                                                               \n",
            "                                                                 \n",
            " flatten (Flatten)           (None, 1792)              0         \n",
            "                                                                 \n",
            " dense (Dense)               (None, 256)               459008    \n",
            "                                                                 \n",
            " dropout_1 (Dropout)         (None, 256)               0         \n",
            "                                                                 \n",
            " dense_1 (Dense)             (None, 6)                 1542      \n",
            "                                                                 \n",
            "=================================================================\n",
            "Total params: 2,536,262\n",
            "Trainable params: 2,535,494\n",
            "Non-trainable params: 768\n",
            "_________________________________________________________________\n"
          ]
        }
      ],
      "source": [
        "model.summary()"
      ]
    },
    {
      "cell_type": "markdown",
      "metadata": {
        "id": "amS7eo91ypuj"
      },
      "source": [
        "## 4. Running the Model and Evaluating Performance"
      ]
    },
    {
      "cell_type": "code",
      "execution_count": 53,
      "metadata": {
        "colab": {
          "base_uri": "https://localhost:8080/"
        },
        "id": "OEp1We3T7_DI",
        "outputId": "614937f4-db3f-4ed0-b6a0-8035d6060fc7"
      },
      "outputs": [
        {
          "output_type": "stream",
          "name": "stdout",
          "text": [
            "Epoch 1/50\n",
            "310/310 [==============================] - ETA: 0s - loss: 1.5305 - acc: 0.3684 - f1_m: 0.1617\n",
            "Epoch 1: val_acc improved from -inf to 0.41379, saving model to /content/drive/MyDrive/speech recognition/weights/cp-0001.ckpt\n",
            "310/310 [==============================] - 66s 159ms/step - loss: 1.5305 - acc: 0.3684 - f1_m: 0.1617 - val_loss: 1.4148 - val_acc: 0.4138 - val_f1_m: 0.1614 - lr: 0.0010\n",
            "Epoch 2/50\n",
            "310/310 [==============================] - ETA: 0s - loss: 1.3690 - acc: 0.4494 - f1_m: 0.2759\n",
            "Epoch 2: val_acc improved from 0.41379 to 0.44828, saving model to /content/drive/MyDrive/speech recognition/weights/cp-0002.ckpt\n",
            "310/310 [==============================] - 50s 161ms/step - loss: 1.3690 - acc: 0.4494 - f1_m: 0.2759 - val_loss: 1.3652 - val_acc: 0.4483 - val_f1_m: 0.2776 - lr: 0.0010\n",
            "Epoch 3/50\n",
            "310/310 [==============================] - ETA: 0s - loss: 1.2878 - acc: 0.4917 - f1_m: 0.3494\n",
            "Epoch 3: val_acc improved from 0.44828 to 0.49425, saving model to /content/drive/MyDrive/speech recognition/weights/cp-0003.ckpt\n",
            "310/310 [==============================] - 50s 161ms/step - loss: 1.2878 - acc: 0.4917 - f1_m: 0.3494 - val_loss: 1.3160 - val_acc: 0.4943 - val_f1_m: 0.3195 - lr: 0.0010\n",
            "Epoch 4/50\n",
            "310/310 [==============================] - ETA: 0s - loss: 1.2388 - acc: 0.5146 - f1_m: 0.3910\n",
            "Epoch 4: val_acc did not improve from 0.49425\n",
            "310/310 [==============================] - 50s 162ms/step - loss: 1.2388 - acc: 0.5146 - f1_m: 0.3910 - val_loss: 1.3148 - val_acc: 0.4713 - val_f1_m: 0.3688 - lr: 0.0010\n",
            "Epoch 5/50\n",
            "310/310 [==============================] - ETA: 0s - loss: 1.1962 - acc: 0.5309 - f1_m: 0.4226\n",
            "Epoch 5: val_acc improved from 0.49425 to 0.50575, saving model to /content/drive/MyDrive/speech recognition/weights/cp-0005.ckpt\n",
            "310/310 [==============================] - 50s 162ms/step - loss: 1.1962 - acc: 0.5309 - f1_m: 0.4226 - val_loss: 1.2643 - val_acc: 0.5057 - val_f1_m: 0.3812 - lr: 0.0010\n",
            "Epoch 6/50\n",
            "310/310 [==============================] - ETA: 0s - loss: 1.1555 - acc: 0.5459 - f1_m: 0.4551\n",
            "Epoch 6: val_acc did not improve from 0.50575\n",
            "310/310 [==============================] - 50s 162ms/step - loss: 1.1555 - acc: 0.5459 - f1_m: 0.4551 - val_loss: 1.3414 - val_acc: 0.4444 - val_f1_m: 0.3393 - lr: 0.0010\n",
            "Epoch 7/50\n",
            "310/310 [==============================] - ETA: 0s - loss: 1.1189 - acc: 0.5605 - f1_m: 0.4774\n",
            "Epoch 7: val_acc did not improve from 0.50575\n",
            "310/310 [==============================] - 50s 162ms/step - loss: 1.1189 - acc: 0.5605 - f1_m: 0.4774 - val_loss: 1.3351 - val_acc: 0.4943 - val_f1_m: 0.3891 - lr: 0.0010\n",
            "Epoch 8/50\n",
            "310/310 [==============================] - ETA: 0s - loss: 1.0950 - acc: 0.5746 - f1_m: 0.4943\n",
            "Epoch 8: val_acc improved from 0.50575 to 0.51341, saving model to /content/drive/MyDrive/speech recognition/weights/cp-0008.ckpt\n",
            "310/310 [==============================] - 50s 162ms/step - loss: 1.0950 - acc: 0.5746 - f1_m: 0.4943 - val_loss: 1.2206 - val_acc: 0.5134 - val_f1_m: 0.4014 - lr: 0.0010\n",
            "Epoch 9/50\n",
            "310/310 [==============================] - ETA: 0s - loss: 1.0474 - acc: 0.5863 - f1_m: 0.5220\n",
            "Epoch 9: val_acc did not improve from 0.51341\n",
            "310/310 [==============================] - 50s 161ms/step - loss: 1.0474 - acc: 0.5863 - f1_m: 0.5220 - val_loss: 1.2989 - val_acc: 0.4483 - val_f1_m: 0.3761 - lr: 0.0010\n",
            "Epoch 10/50\n",
            "310/310 [==============================] - ETA: 0s - loss: 1.0074 - acc: 0.6061 - f1_m: 0.5466\n",
            "Epoch 10: val_acc did not improve from 0.51341\n",
            "310/310 [==============================] - 50s 162ms/step - loss: 1.0074 - acc: 0.6061 - f1_m: 0.5466 - val_loss: 1.2573 - val_acc: 0.4713 - val_f1_m: 0.3902 - lr: 0.0010\n",
            "Epoch 11/50\n",
            "310/310 [==============================] - ETA: 0s - loss: 0.9529 - acc: 0.6274 - f1_m: 0.5852\n",
            "Epoch 00011: ReduceLROnPlateau reducing learning rate to 0.0005000000237487257.\n",
            "\n",
            "Epoch 11: val_acc did not improve from 0.51341\n",
            "310/310 [==============================] - 50s 162ms/step - loss: 0.9529 - acc: 0.6274 - f1_m: 0.5852 - val_loss: 1.4227 - val_acc: 0.4751 - val_f1_m: 0.3884 - lr: 0.0010\n",
            "Epoch 12/50\n",
            "310/310 [==============================] - ETA: 0s - loss: 0.8396 - acc: 0.6749 - f1_m: 0.6433\n",
            "Epoch 12: val_acc did not improve from 0.51341\n",
            "310/310 [==============================] - 50s 161ms/step - loss: 0.8396 - acc: 0.6749 - f1_m: 0.6433 - val_loss: 1.4946 - val_acc: 0.4291 - val_f1_m: 0.3611 - lr: 5.0000e-04\n",
            "Epoch 13/50\n",
            "310/310 [==============================] - ETA: 0s - loss: 0.8032 - acc: 0.6869 - f1_m: 0.6593\n",
            "Epoch 13: val_acc did not improve from 0.51341\n",
            "310/310 [==============================] - 50s 161ms/step - loss: 0.8032 - acc: 0.6869 - f1_m: 0.6593 - val_loss: 1.4409 - val_acc: 0.4598 - val_f1_m: 0.3941 - lr: 5.0000e-04\n"
          ]
        }
      ],
      "source": [
        "history = model.fit(X_train, y_train, validation_data=(X_val, y_val), epochs = 50, batch_size = 64, callbacks=[earlystopping, learning_rate_reduction, cp_callback])"
      ]
    },
    {
      "cell_type": "code",
      "execution_count": 54,
      "metadata": {
        "colab": {
          "base_uri": "https://localhost:8080/",
          "height": 599
        },
        "id": "AJvf6pT88Ani",
        "outputId": "af4b2931-9baf-4a2f-cc02-8c2562a8dfd7"
      },
      "outputs": [
        {
          "output_type": "stream",
          "name": "stdout",
          "text": [
            "70/70 [==============================] - 2s 23ms/step - loss: 1.2222 - acc: 0.5383 - f1_m: 0.4707\n",
            "Accuracy of our model on test data :  53.82893085479736 %\n"
          ]
        },
        {
          "output_type": "display_data",
          "data": {
            "text/plain": [
              "<Figure size 2000x600 with 2 Axes>"
            ],
            "image/png": "[encoded data removed]"
          },
          "metadata": {}
        }
      ],
      "source": [
        "print(\"Accuracy of our model on test data : \" , model.evaluate(X_test,y_test)[1]*100 , \"%\")\n",
        "plot_acc(history)"
      ]
    },
    {
      "cell_type": "code",
      "execution_count": 55,
      "metadata": {
        "colab": {
          "base_uri": "https://localhost:8080/"
        },
        "id": "tIdf0AcEp68i",
        "outputId": "302079e1-dc63-4485-8b8d-0a01e41a6c6c"
      },
      "outputs": [
        {
          "output_type": "stream",
          "name": "stdout",
          "text": [
            "70/70 [==============================] - 1s 16ms/step\n"
          ]
        }
      ],
      "source": [
        "y_pred = model.predict(X_test)\n",
        "y_pred = np.argmax(y_pred, axis=1)\n",
        "y_check = np.argmax(y_test, axis=1)\n",
        "cm = confusion_matrix(y_true=y_check, y_pred=y_pred)"
      ]
    },
    {
      "cell_type": "code",
      "execution_count": 56,
      "metadata": {
        "colab": {
          "base_uri": "https://localhost:8080/",
          "height": 627
        },
        "id": "LFnUNnlgJ4xR",
        "outputId": "c1b7c9aa-bdd4-453e-80fe-5be0aa40ef80"
      },
      "outputs": [
        {
          "output_type": "stream",
          "name": "stdout",
          "text": [
            "Confusion matrix, without normalization\n",
            "[[260  31  31  49   8   2]\n",
            " [ 43 167  35  48  43  46]\n",
            " [ 16  26 174  62  11  92]\n",
            " [ 52  22  66 204  26  11]\n",
            " [  5  37  35  48 164  37]\n",
            " [  1  39  41  15  53 233]]\n"
          ]
        },
        {
          "output_type": "display_data",
          "data": {
            "text/plain": [
              "<Figure size 640x480 with 2 Axes>"
            ],
            "image/png": "[encoded data removed]"
          },
          "metadata": {}
        }
      ],
      "source": [
        "cm_plot_labels = ['angry', 'disgust', 'fear', 'happy', 'neutral', 'sad']\n",
        "plot_confusion_matrix(cm=cm, classes=cm_plot_labels, title='Confusion Matrix')\n"
      ]
    },
    {
      "cell_type": "markdown",
      "metadata": {
        "id": "O3JrwnJ88vzl"
      },
      "source": [
        "## 5. Running the model with saved weights. Transfer Learning approach"
      ]
    },
    {
      "cell_type": "code",
      "execution_count": 60,
      "metadata": {
        "colab": {
          "base_uri": "https://localhost:8080/"
        },
        "id": "_v-tkj6b8uln",
        "outputId": "bb34c5c6-6cf0-4f87-d4ed-ed84bdc0daef"
      },
      "outputs": [
        {
          "output_type": "execute_result",
          "data": {
            "text/plain": [
              "<tensorflow.python.checkpoint.checkpoint.CheckpointLoadStatus at 0x7f7699c30e50>"
            ]
          },
          "metadata": {},
          "execution_count": 60
        }
      ],
      "source": [
        "model.load_weights('/content/drive/MyDrive/speech recognition/weights/cp-0008.ckpt')"
      ]
    },
    {
      "cell_type": "code",
      "source": [
        "history = model.fit(X_train, y_train, validation_data=(X_val, y_val), epochs = 10, batch_size = 32, callbacks=[earlystopping, learning_rate_reduction, cp_callback])"
      ],
      "metadata": {
        "colab": {
          "base_uri": "https://localhost:8080/"
        },
        "id": "DG7jO7j9fzu9",
        "outputId": "a17c5a41-e49b-4eaf-de36-334318616c0d"
      },
      "execution_count": 61,
      "outputs": [
        {
          "output_type": "stream",
          "name": "stdout",
          "text": [
            "Epoch 1/10\n",
            "619/619 [==============================] - ETA: 0s - loss: 1.1247 - acc: 0.5606 - f1_m: 0.4757\n",
            "Epoch 1: val_acc improved from 0.51341 to 0.52490, saving model to /content/drive/MyDrive/speech recognition/weights/cp-0001.ckpt\n",
            "619/619 [==============================] - 56s 87ms/step - loss: 1.1247 - acc: 0.5606 - f1_m: 0.4757 - val_loss: 1.2622 - val_acc: 0.5249 - val_f1_m: 0.4170 - lr: 0.0010\n",
            "Epoch 2/10\n",
            "619/619 [==============================] - ETA: 0s - loss: 1.0651 - acc: 0.5814 - f1_m: 0.5149\n",
            "Epoch 2: val_acc did not improve from 0.52490\n",
            "619/619 [==============================] - 53s 85ms/step - loss: 1.0651 - acc: 0.5814 - f1_m: 0.5149 - val_loss: 1.3944 - val_acc: 0.5057 - val_f1_m: 0.4409 - lr: 0.0010\n",
            "Epoch 3/10\n",
            "619/619 [==============================] - ETA: 0s - loss: 1.0162 - acc: 0.6046 - f1_m: 0.5463\n",
            "Epoch 3: val_acc did not improve from 0.52490\n",
            "619/619 [==============================] - 53s 86ms/step - loss: 1.0162 - acc: 0.6046 - f1_m: 0.5463 - val_loss: 1.2804 - val_acc: 0.4789 - val_f1_m: 0.4230 - lr: 0.0010\n",
            "Epoch 4/10\n",
            "619/619 [==============================] - ETA: 0s - loss: 0.9652 - acc: 0.6260 - f1_m: 0.5765\n",
            "Epoch 00004: ReduceLROnPlateau reducing learning rate to 0.0005000000237487257.\n",
            "\n",
            "Epoch 4: val_acc did not improve from 0.52490\n",
            "619/619 [==============================] - 53s 86ms/step - loss: 0.9652 - acc: 0.6260 - f1_m: 0.5765 - val_loss: 1.3056 - val_acc: 0.4981 - val_f1_m: 0.4492 - lr: 0.0010\n",
            "Epoch 5/10\n",
            "619/619 [==============================] - ETA: 0s - loss: 0.8200 - acc: 0.6833 - f1_m: 0.6532\n",
            "Epoch 5: val_acc did not improve from 0.52490\n",
            "619/619 [==============================] - 53s 86ms/step - loss: 0.8200 - acc: 0.6833 - f1_m: 0.6532 - val_loss: 1.3965 - val_acc: 0.5172 - val_f1_m: 0.4253 - lr: 5.0000e-04\n",
            "Epoch 6/10\n",
            "619/619 [==============================] - ETA: 0s - loss: 0.7540 - acc: 0.7072 - f1_m: 0.6853\n",
            "Epoch 6: val_acc did not improve from 0.52490\n",
            "619/619 [==============================] - 53s 86ms/step - loss: 0.7540 - acc: 0.7072 - f1_m: 0.6853 - val_loss: 1.4927 - val_acc: 0.4981 - val_f1_m: 0.4445 - lr: 5.0000e-04\n"
          ]
        }
      ]
    },
    {
      "cell_type": "code",
      "execution_count": 62,
      "metadata": {
        "id": "0M3cfVuv-A22",
        "colab": {
          "base_uri": "https://localhost:8080/"
        },
        "outputId": "76c1a9e8-3ca5-4e5e-de63-a1633ca9e149"
      },
      "outputs": [
        {
          "output_type": "stream",
          "name": "stdout",
          "text": [
            "70/70 [==============================] - 1s 17ms/step - loss: 1.2372 - acc: 0.5419 - f1_m: 0.4737\n",
            "Accuracy of our model on test data :  54.187190532684326 %\n"
          ]
        }
      ],
      "source": [
        "print(\"Accuracy of our model on test data : \" , model.evaluate(X_test,y_test)[1]*100 , \"%\")"
      ]
    },
    {
      "cell_type": "markdown",
      "metadata": {
        "id": "rsxLFjQZc9iO"
      },
      "source": [
        "## Bonus Part"
      ]
    },
    {
      "cell_type": "markdown",
      "metadata": {
        "id": "cHwHCvnHuh5w"
      },
      "source": [
        "**Architecture from paper: *Recognition of Emotions in Speech Using Convolutional\n",
        "Neural Networks on Different Datasets***"
      ]
    },
    {
      "cell_type": "markdown",
      "metadata": {
        "id": "CpZShHmIuXFL"
      },
      "source": [
        "\n",
        "\n",
        "> The architecture consists of a Sequential Keras model with several layers. The first layer is a Conv2D layer with 75 filters, a kernel size of 5x5, and a ReLU activation function. It takes input of shape (mfcc_x, mfcc_y, 1), where mfcc_x and mfcc_y represent the dimensions of the input MFCC features. The layer is followed by a MaxPooling2D layer with a pool size of 4x4 and a stride of 2. The architecture then repeats this pattern with another Conv2D layer with 135 filters, a MaxPooling2D layer, and a Dropout layer with a rate of 0.2, for regularization. The architecture then repeats the pattern once again with a Conv2D layer with 75 filters and a MaxPooling2D layer. The output of this layer is then flattened and passed through a Dense layer with 45 units and a ReLU activation function, followed by another Dropout layer with a rate of 0.2. Finally, the output is passed through a Dense layer with 6 units and a softmax activation function, to produce the final classification probabilities. L2 regularization with a parameter of 0.01 is applied to the Conv2D and Dense layers. The model is compiled using the Adam optimizer and the categorical cross-entropy loss function, with accuracy and F1 score as the evaluation metrics. Overall, this architecture is designed for classifying audio signals using MFCC features, with a focus on preventing overfitting through regularization and L2 regularization.\n",
        "\n"
      ]
    },
    {
      "cell_type": "code",
      "execution_count": 64,
      "metadata": {
        "id": "WRQ1R4LEdEdZ"
      },
      "outputs": [],
      "source": [
        "import tensorflow as tf\n",
        "\n",
        "model_b=models.Sequential()\n",
        "model_b.add(layers.Conv2D(75, kernel_size=5, strides=1, padding='same', activation='relu', input_shape=(mfcc_x, mfcc_y , 1)))\n",
        "#model.add(layers.MaxPooling2D(pool_size=4, strides = 2, padding = 'same'))\n",
        "model_b.add(layers.MaxPooling2D(pool_size=4, strides = 2, padding = 'same'))\n",
        "\n",
        "model_b.add(layers.Conv2D(135, kernel_size=5, strides=1, padding='same', activation='relu', input_shape=(mfcc_x, mfcc_y , 1)))\n",
        "model_b.add(layers.MaxPooling2D(pool_size=4, strides = 2, padding = 'same'))\n",
        "\n",
        "model_b.add(layers.Dropout(0.2))\n",
        "\n",
        "model_b.add(layers.Conv2D(75, kernel_size=5, strides=1, padding='same', activation='relu', input_shape=(mfcc_x, mfcc_y , 1)))\n",
        "model_b.add(layers.MaxPooling2D(pool_size=4, strides = 2, padding = 'same'))\n",
        "\n",
        "model_b.add(layers.Dropout(0.2))\n",
        "\n",
        "model_b.add(layers.Flatten())\n",
        "\n",
        "model_b.add(layers.Dense(units=45, activation='relu'))\n",
        "\n",
        "model_b.add(layers.Dropout(0.2))\n",
        "\n",
        "model_b.add(layers.Dense(units=6, activation='softmax'))\n",
        "\n",
        "\n",
        "# Add L2 regularization to the convolutional layers\n",
        "l2_lambda = 0.01  # Regularization parameter\n",
        "for layer in model_b.layers:\n",
        "    if isinstance(layer, tf.keras.layers.Conv2D) or isinstance(layer, tf.keras.layers.Dense):\n",
        "        layer.kernel_regularizer = tf.keras.regularizers.l2(l2_lambda)\n",
        "\n",
        "\n",
        "model_b.compile(optimizer = 'adam' ,  loss='categorical_crossentropy' , metrics=[\"acc\", f1_m])"
      ]
    },
    {
      "cell_type": "code",
      "execution_count": 65,
      "metadata": {
        "colab": {
          "base_uri": "https://localhost:8080/"
        },
        "id": "m6Jde6OijeoR",
        "outputId": "2b9fd815-7887-42ab-e545-b81a2209412d"
      },
      "outputs": [
        {
          "output_type": "stream",
          "name": "stdout",
          "text": [
            "Model: \"sequential_1\"\n",
            "_________________________________________________________________\n",
            " Layer (type)                Output Shape              Param #   \n",
            "=================================================================\n",
            " conv2d_4 (Conv2D)           (None, 216, 20, 75)       1950      \n",
            "                                                                 \n",
            " max_pooling2d_1 (MaxPooling  (None, 108, 10, 75)      0         \n",
            " 2D)                                                             \n",
            "                                                                 \n",
            " conv2d_5 (Conv2D)           (None, 108, 10, 135)      253260    \n",
            "                                                                 \n",
            " max_pooling2d_2 (MaxPooling  (None, 54, 5, 135)       0         \n",
            " 2D)                                                             \n",
            "                                                                 \n",
            " dropout_2 (Dropout)         (None, 54, 5, 135)        0         \n",
            "                                                                 \n",
            " conv2d_6 (Conv2D)           (None, 54, 5, 75)         253200    \n",
            "                                                                 \n",
            " max_pooling2d_3 (MaxPooling  (None, 27, 3, 75)        0         \n",
            " 2D)                                                             \n",
            "                                                                 \n",
            " dropout_3 (Dropout)         (None, 27, 3, 75)         0         \n",
            "                                                                 \n",
            " flatten_1 (Flatten)         (None, 6075)              0         \n",
            "                                                                 \n",
            " dense_2 (Dense)             (None, 45)                273420    \n",
            "                                                                 \n",
            " dropout_4 (Dropout)         (None, 45)                0         \n",
            "                                                                 \n",
            " dense_3 (Dense)             (None, 6)                 276       \n",
            "                                                                 \n",
            "=================================================================\n",
            "Total params: 782,106\n",
            "Trainable params: 782,106\n",
            "Non-trainable params: 0\n",
            "_________________________________________________________________\n"
          ]
        }
      ],
      "source": [
        "model_b.summary()"
      ]
    },
    {
      "cell_type": "code",
      "execution_count": null,
      "metadata": {
        "colab": {
          "base_uri": "https://localhost:8080/"
        },
        "id": "VxBpEEpEjmAY",
        "outputId": "deaee9b1-f721-4cde-e38d-bdc909799bc8"
      },
      "outputs": [
        {
          "name": "stdout",
          "output_type": "stream",
          "text": [
            "Epoch 1/30\n",
            "310/310 [==============================] - 28s 42ms/step - loss: 2.9183 - acc: 0.1720 - f1_m: 0.0042 - val_loss: 1.7897 - val_acc: 0.1727 - val_f1_m: 0.0000e+00\n",
            "Epoch 2/30\n",
            "310/310 [==============================] - 12s 40ms/step - loss: 1.7851 - acc: 0.1793 - f1_m: 0.0076 - val_loss: 1.7886 - val_acc: 0.1727 - val_f1_m: 0.0000e+00\n",
            "Epoch 3/30\n",
            "310/310 [==============================] - 13s 41ms/step - loss: 1.7904 - acc: 0.1693 - f1_m: 0.0000e+00 - val_loss: 1.7884 - val_acc: 0.1641 - val_f1_m: 0.0000e+00\n",
            "Epoch 4/30\n",
            "310/310 [==============================] - 13s 41ms/step - loss: 1.7904 - acc: 0.1694 - f1_m: 0.0000e+00 - val_loss: 1.7882 - val_acc: 0.1641 - val_f1_m: 0.0000e+00\n",
            "Epoch 5/30\n",
            "310/310 [==============================] - 13s 41ms/step - loss: 1.7909 - acc: 0.1689 - f1_m: 0.0000e+00 - val_loss: 1.7882 - val_acc: 0.1641 - val_f1_m: 0.0000e+00\n",
            "Epoch 6/30\n",
            "310/310 [==============================] - 13s 41ms/step - loss: 1.7905 - acc: 0.1674 - f1_m: 0.0000e+00 - val_loss: 1.7882 - val_acc: 0.1718 - val_f1_m: 0.0000e+00\n",
            "Epoch 7/30\n",
            "310/310 [==============================] - 13s 40ms/step - loss: 1.7904 - acc: 0.1656 - f1_m: 0.0000e+00 - val_loss: 1.7883 - val_acc: 0.1679 - val_f1_m: 0.0000e+00\n",
            "Epoch 8/30\n",
            "310/310 [==============================] - 13s 41ms/step - loss: 1.7904 - acc: 0.1695 - f1_m: 0.0000e+00 - val_loss: 1.7885 - val_acc: 0.1679 - val_f1_m: 0.0000e+00\n",
            "Epoch 9/30\n",
            "310/310 [==============================] - 13s 42ms/step - loss: 1.7904 - acc: 0.1632 - f1_m: 0.0000e+00 - val_loss: 1.7885 - val_acc: 0.1679 - val_f1_m: 0.0000e+00\n",
            "Epoch 10/30\n",
            "310/310 [==============================] - 13s 41ms/step - loss: 1.7904 - acc: 0.1692 - f1_m: 0.0000e+00 - val_loss: 1.7883 - val_acc: 0.1679 - val_f1_m: 0.0000e+00\n",
            "Epoch 11/30\n",
            "310/310 [==============================] - 13s 40ms/step - loss: 1.7904 - acc: 0.1645 - f1_m: 0.0000e+00 - val_loss: 1.7881 - val_acc: 0.1727 - val_f1_m: 0.0000e+00\n",
            "Epoch 12/30\n",
            "310/310 [==============================] - 13s 41ms/step - loss: 1.7904 - acc: 0.1703 - f1_m: 0.0000e+00 - val_loss: 1.7881 - val_acc: 0.1679 - val_f1_m: 0.0000e+00\n",
            "Epoch 13/30\n",
            "310/310 [==============================] - 13s 40ms/step - loss: 1.7904 - acc: 0.1668 - f1_m: 0.0000e+00 - val_loss: 1.7881 - val_acc: 0.1727 - val_f1_m: 0.0000e+00\n",
            "Epoch 14/30\n",
            "310/310 [==============================] - 13s 41ms/step - loss: 1.7904 - acc: 0.1667 - f1_m: 0.0000e+00 - val_loss: 1.7883 - val_acc: 0.1727 - val_f1_m: 0.0000e+00\n",
            "Epoch 15/30\n",
            "310/310 [==============================] - 13s 41ms/step - loss: 1.7904 - acc: 0.1701 - f1_m: 0.0000e+00 - val_loss: 1.7882 - val_acc: 0.1679 - val_f1_m: 0.0000e+00\n",
            "Epoch 16/30\n",
            "310/310 [==============================] - 13s 42ms/step - loss: 1.7904 - acc: 0.1658 - f1_m: 0.0000e+00 - val_loss: 1.7883 - val_acc: 0.1679 - val_f1_m: 0.0000e+00\n",
            "Epoch 17/30\n",
            "310/310 [==============================] - 12s 40ms/step - loss: 1.7904 - acc: 0.1666 - f1_m: 0.0000e+00 - val_loss: 1.7884 - val_acc: 0.1679 - val_f1_m: 0.0000e+00\n",
            "Epoch 18/30\n",
            "310/310 [==============================] - 13s 41ms/step - loss: 1.7904 - acc: 0.1686 - f1_m: 0.0000e+00 - val_loss: 1.7883 - val_acc: 0.1679 - val_f1_m: 0.0000e+00\n",
            "Epoch 19/30\n",
            "310/310 [==============================] - 13s 41ms/step - loss: 1.7904 - acc: 0.1644 - f1_m: 0.0000e+00 - val_loss: 1.7881 - val_acc: 0.1641 - val_f1_m: 0.0000e+00\n",
            "Epoch 20/30\n",
            "310/310 [==============================] - 13s 41ms/step - loss: 1.7904 - acc: 0.1696 - f1_m: 0.0000e+00 - val_loss: 1.7881 - val_acc: 0.1641 - val_f1_m: 0.0000e+00\n",
            "Epoch 21/30\n",
            "310/310 [==============================] - 13s 40ms/step - loss: 1.7904 - acc: 0.1708 - f1_m: 0.0000e+00 - val_loss: 1.7882 - val_acc: 0.1679 - val_f1_m: 0.0000e+00\n",
            "Epoch 22/30\n",
            "310/310 [==============================] - 13s 41ms/step - loss: 1.7904 - acc: 0.1668 - f1_m: 0.0000e+00 - val_loss: 1.7884 - val_acc: 0.1679 - val_f1_m: 0.0000e+00\n",
            "Epoch 23/30\n",
            "310/310 [==============================] - 13s 41ms/step - loss: 1.7904 - acc: 0.1656 - f1_m: 0.0000e+00 - val_loss: 1.7883 - val_acc: 0.1727 - val_f1_m: 0.0000e+00\n",
            "Epoch 24/30\n",
            "310/310 [==============================] - 13s 40ms/step - loss: 1.7904 - acc: 0.1669 - f1_m: 0.0000e+00 - val_loss: 1.7884 - val_acc: 0.1641 - val_f1_m: 0.0000e+00\n",
            "Epoch 25/30\n",
            "310/310 [==============================] - 13s 41ms/step - loss: 1.7904 - acc: 0.1679 - f1_m: 0.0000e+00 - val_loss: 1.7882 - val_acc: 0.1679 - val_f1_m: 0.0000e+00\n",
            "Epoch 26/30\n",
            "310/310 [==============================] - 13s 41ms/step - loss: 1.7904 - acc: 0.1711 - f1_m: 0.0000e+00 - val_loss: 1.7884 - val_acc: 0.1679 - val_f1_m: 0.0000e+00\n",
            "Epoch 27/30\n",
            "310/310 [==============================] - 12s 40ms/step - loss: 1.7904 - acc: 0.1662 - f1_m: 0.0000e+00 - val_loss: 1.7883 - val_acc: 0.1641 - val_f1_m: 0.0000e+00\n",
            "Epoch 28/30\n",
            "310/310 [==============================] - 13s 41ms/step - loss: 1.7904 - acc: 0.1626 - f1_m: 0.0000e+00 - val_loss: 1.7884 - val_acc: 0.1641 - val_f1_m: 0.0000e+00\n",
            "Epoch 29/30\n",
            "310/310 [==============================] - 13s 41ms/step - loss: 1.7904 - acc: 0.1667 - f1_m: 0.0000e+00 - val_loss: 1.7881 - val_acc: 0.1727 - val_f1_m: 0.0000e+00\n",
            "Epoch 30/30\n",
            "310/310 [==============================] - 13s 40ms/step - loss: 1.7904 - acc: 0.1658 - f1_m: 0.0000e+00 - val_loss: 1.7882 - val_acc: 0.1641 - val_f1_m: 0.0000e+00\n"
          ]
        }
      ],
      "source": [
        "history = model_b.fit(X_train, y_train, validation_data=(X_val, y_val), epochs = 30, batch_size = 64)"
      ]
    },
    {
      "cell_type": "code",
      "execution_count": null,
      "metadata": {
        "colab": {
          "base_uri": "https://localhost:8080/"
        },
        "id": "NEJS0QS_jpuj",
        "outputId": "5cdc3e2c-b9e2-407e-8fdf-d30958f057ab"
      },
      "outputs": [
        {
          "name": "stdout",
          "output_type": "stream",
          "text": [
            "280/280 [==============================] - 4s 13ms/step - loss: 1.7902 - acc: 0.1708 - f1_m: 0.0000e+00\n",
            "Accuracy of our model on test data :  17.075355350971222 %\n"
          ]
        }
      ],
      "source": [
        "print(\"Accuracy of our model on test data : \" , model_b.evaluate(X_test,y_test)[1]*100 , \"%\")"
      ]
    }
  ],
  "metadata": {
    "accelerator": "GPU",
    "colab": {
      "gpuType": "T4",
      "provenance": []
    },
    "gpuClass": "standard",
    "kernelspec": {
      "display_name": "Python 3 (ipykernel)",
      "language": "python",
      "name": "python3"
    },
    "language_info": {
      "codemirror_mode": {
        "name": "ipython",
        "version": 3
      },
      "file_extension": ".py",
      "mimetype": "text/x-python",
      "name": "python",
      "nbconvert_exporter": "python",
      "pygments_lexer": "ipython3",
      "version": "3.9.13"
    }
  },
  "nbformat": 4,
  "nbformat_minor": 0
}